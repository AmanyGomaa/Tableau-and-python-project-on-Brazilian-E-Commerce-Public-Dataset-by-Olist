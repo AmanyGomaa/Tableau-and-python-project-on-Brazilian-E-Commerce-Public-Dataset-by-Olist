{
 "cells": [
  {
   "cell_type": "code",
   "execution_count": 1,
   "id": "71254b9c-8e09-4e58-93be-a0fb2ed83704",
   "metadata": {},
   "outputs": [],
   "source": [
    "import pandas as pd\n",
    "import numpy as np\n",
    "import seaborn as sns\n",
    "import matplotlib.pyplot as plt\n",
    "import os"
   ]
  },
  {
   "cell_type": "markdown",
   "id": "8c588795-874d-4a15-9324-a9a346b47195",
   "metadata": {},
   "source": [
    "### Importing data"
   ]
  },
  {
   "cell_type": "code",
   "execution_count": 2,
   "id": "7eaa207c-be87-4758-af8f-fe0d172b2c7c",
   "metadata": {},
   "outputs": [],
   "source": [
    "path = r'C:\\Users\\Amani\\Desktop\\career foundry\\Brazilian E-Commerce project A6'"
   ]
  },
  {
   "cell_type": "code",
   "execution_count": 3,
   "id": "260e97fb-10c7-42ed-bcbf-57453197ea0a",
   "metadata": {},
   "outputs": [],
   "source": [
    "products = pd.read_csv(os.path.join(path, '02 Data', 'Original data', 'olist_products_dataset.csv'), index_col = False)\n"
   ]
  },
  {
   "cell_type": "code",
   "execution_count": 4,
   "id": "3ce2cdb1-6e72-4234-9093-8428865d75d1",
   "metadata": {},
   "outputs": [],
   "source": [
    "orderpayment = pd.read_csv(os.path.join(path, '02 data', 'original data', 'olist_order_payments_dataset.csv'))\n"
   ]
  },
  {
   "cell_type": "code",
   "execution_count": 5,
   "id": "711ef367-f2dd-4bcc-bd4b-347fa945f4e9",
   "metadata": {},
   "outputs": [],
   "source": [
    "customers = pd.read_csv(os.path.join(path, '02 data', 'original data', 'olist_customers_dataset.csv'))\n"
   ]
  },
  {
   "cell_type": "code",
   "execution_count": 6,
   "id": "439b1260-688f-4a85-a775-a2ae98c1c285",
   "metadata": {},
   "outputs": [],
   "source": [
    "orderitems = pd.read_csv(os.path.join(path, '02 data', 'original data', 'olist_order_items_dataset.csv'))\n"
   ]
  },
  {
   "cell_type": "code",
   "execution_count": 7,
   "id": "e4f0a8c6-0490-41e8-9a10-8b9241e6c8f4",
   "metadata": {},
   "outputs": [],
   "source": [
    "orders = pd.read_csv(os.path.join(path, '02 data', 'original data', 'olist_order_payments_dataset.csv'))\n"
   ]
  },
  {
   "cell_type": "code",
   "execution_count": 8,
   "id": "e1e281ae-1da0-4c6c-968f-0b7fc453cc2a",
   "metadata": {},
   "outputs": [],
   "source": [
    "sellers = pd.read_csv(os.path.join(path, '02 data', 'original data', 'olist_order_payments_dataset.csv'))"
   ]
  },
  {
   "cell_type": "markdown",
   "id": "47304b4b-1f66-4b0f-88ec-0ba2daaf2459",
   "metadata": {},
   "source": [
    "\n",
    "geological = pd.read_csv(os.path.join(path, '02 data', 'original data', 'olist_geolocation_dataset.csv'))\n"
   ]
  },
  {
   "cell_type": "code",
   "execution_count": 9,
   "id": "5614e2ac-ce6c-4888-8007-91de9b68c1c4",
   "metadata": {},
   "outputs": [],
   "source": [
    "productscategory = pd.read_csv(os.path.join(path, '02 data', 'original data', 'product_category_name_translation.csv'))\n"
   ]
  },
  {
   "cell_type": "markdown",
   "id": "1287a6bf-286e-4f01-a801-404eeee470fd",
   "metadata": {},
   "source": [
    "### handling missing values"
   ]
  },
  {
   "cell_type": "code",
   "execution_count": 10,
   "id": "f77d7576-17cc-420c-a951-f842ed10f1af",
   "metadata": {},
   "outputs": [
    {
     "name": "stdout",
     "output_type": "stream",
     "text": [
      "                         product_id  product_category_name\n",
      "0  1e9e8ef04dbcff4541ed26657ea517e5             perfumaria\n",
      "1  3aa071139cb16b67ca9e5dea641aaa2f                  artes\n",
      "2  96bd76ec8810374ed1b65e291975717f          esporte_lazer\n",
      "3  cef67bcfe19066a932b7673e239eb23d                  bebes\n",
      "4  9dc1a7de274444849c219cff195d0b71  utilidades_domesticas\n"
     ]
    }
   ],
   "source": [
    "products = pd.read_csv(os.path.join(path, '02 data', 'original data', 'olist_products_dataset.csv'), delimiter=\";\")\n",
    "print(products.head())\n"
   ]
  },
  {
   "cell_type": "code",
   "execution_count": 11,
   "id": "d0d65a0a-f81a-4aae-806a-c41dac05e687",
   "metadata": {},
   "outputs": [
    {
     "name": "stdout",
     "output_type": "stream",
     "text": [
      "                             product_id              product_category_name\n",
      "32946  a0b7d5a992ccda646f2d34e418fff5a0                   moveis_decoracao\n",
      "32947  bf4538d88321d0fd4412a93c974510e6  construcao_ferramentas_iluminacao\n",
      "32948  9a7c6041fa9592d9d9ef6cfe62a71f8c                    cama_mesa_banho\n",
      "32949  83808703fc0706a22e264b9d75f04a2e             informatica_acessorios\n",
      "32950  106392145fca363410d287a815be6de4                    cama_mesa_banho\n"
     ]
    }
   ],
   "source": [
    "print(products.tail())\n"
   ]
  },
  {
   "cell_type": "code",
   "execution_count": 12,
   "id": "d9a927b4-d38a-43f4-a55c-47c7e858f17a",
   "metadata": {},
   "outputs": [
    {
     "name": "stdout",
     "output_type": "stream",
     "text": [
      "                              product_id product_category_name\n",
      "count                              32951                 32341\n",
      "unique                             32951                    73\n",
      "top     106392145fca363410d287a815be6de4       cama_mesa_banho\n",
      "freq                                   1                  3029\n"
     ]
    }
   ],
   "source": [
    "print(products.describe())\n"
   ]
  },
  {
   "cell_type": "code",
   "execution_count": 13,
   "id": "92449ed3-987e-4b1c-95a7-c8106c5d51f0",
   "metadata": {},
   "outputs": [
    {
     "data": {
      "text/plain": [
       "product_id                 0\n",
       "product_category_name    610\n",
       "dtype: int64"
      ]
     },
     "execution_count": 13,
     "metadata": {},
     "output_type": "execute_result"
    }
   ],
   "source": [
    "products.isnull().sum()"
   ]
  },
  {
   "cell_type": "code",
   "execution_count": 14,
   "id": "060f1b53-a4d6-4abf-9d88-da7f52d6ae26",
   "metadata": {},
   "outputs": [
    {
     "data": {
      "text/html": [
       "<div>\n",
       "<style scoped>\n",
       "    .dataframe tbody tr th:only-of-type {\n",
       "        vertical-align: middle;\n",
       "    }\n",
       "\n",
       "    .dataframe tbody tr th {\n",
       "        vertical-align: top;\n",
       "    }\n",
       "\n",
       "    .dataframe thead th {\n",
       "        text-align: right;\n",
       "    }\n",
       "</style>\n",
       "<table border=\"1\" class=\"dataframe\">\n",
       "  <thead>\n",
       "    <tr style=\"text-align: right;\">\n",
       "      <th></th>\n",
       "      <th>product_id</th>\n",
       "      <th>product_category_name</th>\n",
       "    </tr>\n",
       "  </thead>\n",
       "  <tbody>\n",
       "    <tr>\n",
       "      <th>105</th>\n",
       "      <td>a41e356c76fab66334f36de622ecbd3a</td>\n",
       "      <td>NaN</td>\n",
       "    </tr>\n",
       "    <tr>\n",
       "      <th>128</th>\n",
       "      <td>d8dee61c2034d6d075997acef1870e9b</td>\n",
       "      <td>NaN</td>\n",
       "    </tr>\n",
       "    <tr>\n",
       "      <th>145</th>\n",
       "      <td>56139431d72cd51f19eb9f7dae4d1617</td>\n",
       "      <td>NaN</td>\n",
       "    </tr>\n",
       "    <tr>\n",
       "      <th>154</th>\n",
       "      <td>46b48281eb6d663ced748f324108c733</td>\n",
       "      <td>NaN</td>\n",
       "    </tr>\n",
       "    <tr>\n",
       "      <th>197</th>\n",
       "      <td>5fb61f482620cb672f5e586bb132eae9</td>\n",
       "      <td>NaN</td>\n",
       "    </tr>\n",
       "    <tr>\n",
       "      <th>...</th>\n",
       "      <td>...</td>\n",
       "      <td>...</td>\n",
       "    </tr>\n",
       "    <tr>\n",
       "      <th>32515</th>\n",
       "      <td>b0a0c5dd78e644373b199380612c350a</td>\n",
       "      <td>NaN</td>\n",
       "    </tr>\n",
       "    <tr>\n",
       "      <th>32589</th>\n",
       "      <td>10dbe0fbaa2c505123c17fdc34a63c56</td>\n",
       "      <td>NaN</td>\n",
       "    </tr>\n",
       "    <tr>\n",
       "      <th>32616</th>\n",
       "      <td>bd2ada37b58ae94cc838b9c0569fecd8</td>\n",
       "      <td>NaN</td>\n",
       "    </tr>\n",
       "    <tr>\n",
       "      <th>32772</th>\n",
       "      <td>fa51e914046aab32764c41356b9d4ea4</td>\n",
       "      <td>NaN</td>\n",
       "    </tr>\n",
       "    <tr>\n",
       "      <th>32852</th>\n",
       "      <td>c4ceee876c82b8328e9c293fa0e1989b</td>\n",
       "      <td>NaN</td>\n",
       "    </tr>\n",
       "  </tbody>\n",
       "</table>\n",
       "<p>610 rows × 2 columns</p>\n",
       "</div>"
      ],
      "text/plain": [
       "                             product_id product_category_name\n",
       "105    a41e356c76fab66334f36de622ecbd3a                   NaN\n",
       "128    d8dee61c2034d6d075997acef1870e9b                   NaN\n",
       "145    56139431d72cd51f19eb9f7dae4d1617                   NaN\n",
       "154    46b48281eb6d663ced748f324108c733                   NaN\n",
       "197    5fb61f482620cb672f5e586bb132eae9                   NaN\n",
       "...                                 ...                   ...\n",
       "32515  b0a0c5dd78e644373b199380612c350a                   NaN\n",
       "32589  10dbe0fbaa2c505123c17fdc34a63c56                   NaN\n",
       "32616  bd2ada37b58ae94cc838b9c0569fecd8                   NaN\n",
       "32772  fa51e914046aab32764c41356b9d4ea4                   NaN\n",
       "32852  c4ceee876c82b8328e9c293fa0e1989b                   NaN\n",
       "\n",
       "[610 rows x 2 columns]"
      ]
     },
     "execution_count": 14,
     "metadata": {},
     "output_type": "execute_result"
    }
   ],
   "source": [
    "# view these 610 missed values\n",
    "df_nan = products[products['product_category_name'].isnull() == True]\n",
    "df_nan"
   ]
  },
  {
   "cell_type": "code",
   "execution_count": 15,
   "id": "21b09e94-12b3-43b9-954e-c3629fadc59e",
   "metadata": {},
   "outputs": [
    {
     "data": {
      "text/plain": [
       "(32951, 2)"
      ]
     },
     "execution_count": 15,
     "metadata": {},
     "output_type": "execute_result"
    }
   ],
   "source": [
    "#check the current number of rows in your\n",
    "\n",
    "products.shape"
   ]
  },
  {
   "cell_type": "code",
   "execution_count": 16,
   "id": "51bdcaba-baec-4cf4-b108-6d8da6345924",
   "metadata": {},
   "outputs": [],
   "source": [
    "products_cleaned = products[products['product_category_name'].isnull() == False]\n"
   ]
  },
  {
   "cell_type": "code",
   "execution_count": 17,
   "id": "e5379967-19e4-4e07-9a88-0790cb934e38",
   "metadata": {},
   "outputs": [
    {
     "data": {
      "text/plain": [
       "(32341, 2)"
      ]
     },
     "execution_count": 17,
     "metadata": {},
     "output_type": "execute_result"
    }
   ],
   "source": [
    "products_cleaned.shape"
   ]
  },
  {
   "cell_type": "code",
   "execution_count": 18,
   "id": "abc5846f-6e54-40b7-8f15-5a69a3e91f0f",
   "metadata": {},
   "outputs": [
    {
     "name": "stdout",
     "output_type": "stream",
     "text": [
      "                           order_id  payment_sequential payment_type  \\\n",
      "0  b81ef226f3fe1789b1e8b2acac839d17                   1  credit_card   \n",
      "1  a9810da82917af2d9aefd1278f1dcfa0                   1  credit_card   \n",
      "2  25e8ea4e93396b6fa0d3dd708e76c1bd                   1  credit_card   \n",
      "3  ba78997921bbcdc1373bb41e913ab953                   1  credit_card   \n",
      "4  42fdf880ba16b47b59251dd489d4441a                   1  credit_card   \n",
      "\n",
      "   payment_installments  payment_value  \n",
      "0                     8          99.33  \n",
      "1                     1          24.39  \n",
      "2                     1          65.71  \n",
      "3                     8         107.78  \n",
      "4                     2         128.45  \n"
     ]
    }
   ],
   "source": [
    "orderpayment = pd.read_csv(os.path.join(path, '02 data', 'original data', 'olist_order_payments_dataset.csv'), delimiter=\";\")\n",
    "print(orderpayment.head())"
   ]
  },
  {
   "cell_type": "code",
   "execution_count": 19,
   "id": "9a33b127-1314-464a-beb1-793beb274db3",
   "metadata": {},
   "outputs": [
    {
     "name": "stdout",
     "output_type": "stream",
     "text": [
      "                                order_id  payment_sequential payment_type  \\\n",
      "103876  0872d0faafe0cb56e6f2c594cca1522c                   1  credit_card   \n",
      "103877  3531718b24dfd5022fb0d101e10e33b9                   1  credit_card   \n",
      "103878  2e3d96522c8c378d4135c12a65c977aa                   1  credit_card   \n",
      "103879  c45067032fd84f4cf408730ff5205568                   1  credit_card   \n",
      "103880  7159096c5aa9be77f7f0c26c01ee9793                   1  credit_card   \n",
      "103881  0406037ad97740d563a178ecc7a2075c                   1       boleto   \n",
      "103882  7b905861d7c825891d6347454ea7863f                   1  credit_card   \n",
      "103883  32609bbb3dd69b3c066a6860554a77bf                   1  credit_card   \n",
      "103884  b8b61059626efa996a60be9bb9320e10                   1  credit_card   \n",
      "103885  28bbae6599b09d39ca406b747b6632b1                   1       boleto   \n",
      "\n",
      "        payment_installments  payment_value  \n",
      "103876                     2         127.92  \n",
      "103877                     1         194.11  \n",
      "103878                     4          47.62  \n",
      "103879                     2         198.94  \n",
      "103880                     4         280.65  \n",
      "103881                     1         363.31  \n",
      "103882                     2          96.80  \n",
      "103883                     1          47.77  \n",
      "103884                     5         369.54  \n",
      "103885                     1         191.58  \n"
     ]
    }
   ],
   "source": [
    "print(orderpayment.tail(10))\n"
   ]
  },
  {
   "cell_type": "code",
   "execution_count": 20,
   "id": "4a447835-3adb-4925-af81-92a2ec9ae56e",
   "metadata": {},
   "outputs": [
    {
     "name": "stdout",
     "output_type": "stream",
     "text": [
      "       payment_sequential  payment_installments  payment_value\n",
      "count       103886.000000         103886.000000  103886.000000\n",
      "mean             1.092679              2.853349     154.100380\n",
      "std              0.706584              2.687051     217.494064\n",
      "min              1.000000              0.000000       0.000000\n",
      "25%              1.000000              1.000000      56.790000\n",
      "50%              1.000000              1.000000     100.000000\n",
      "75%              1.000000              4.000000     171.837500\n",
      "max             29.000000             24.000000   13664.080000\n"
     ]
    }
   ],
   "source": [
    "print(orderpayment.describe())\n"
   ]
  },
  {
   "cell_type": "code",
   "execution_count": 21,
   "id": "fafe3364-fa28-4d44-bbfc-79a8ae8c8c4c",
   "metadata": {},
   "outputs": [
    {
     "data": {
      "text/plain": [
       "order_id                0\n",
       "payment_sequential      0\n",
       "payment_type            0\n",
       "payment_installments    0\n",
       "payment_value           0\n",
       "dtype: int64"
      ]
     },
     "execution_count": 21,
     "metadata": {},
     "output_type": "execute_result"
    }
   ],
   "source": [
    "orderpayment.isnull().sum()"
   ]
  },
  {
   "cell_type": "code",
   "execution_count": 22,
   "id": "ac7c8893-3621-4a1f-a54b-532ffbc8f0e2",
   "metadata": {},
   "outputs": [
    {
     "name": "stdout",
     "output_type": "stream",
     "text": [
      "                        customer_id                customer_unique_id  \\\n",
      "0  06b8999e2fba1a1fbc88172c00ba8bc7  861eff4711a542e4b93843c6dd7febb0   \n",
      "1  18955e83d337fd6b2def6b18a428ac77  290c77bc529b7ac935b93aa66c333dc3   \n",
      "2  4e7b3e00288586ebd08712fdd0374a03  060e732b5b29e8181a18229c7b0b2b5e   \n",
      "3  b2b6027bc5c5109e529d4dc6358b12c3  259dac757896d24d7702b9acbbff3f3c   \n",
      "4  4f2d8ab171c80ec8364f7c12e35b23ad  345ecd01c38d18a9036ed96c73b8d066   \n",
      "\n",
      "   customer_zip_code_prefix          customer_city customer_state  \n",
      "0                     14409                 franca             SP  \n",
      "1                      9790  sao bernardo do campo             SP  \n",
      "2                      1151              sao paulo             SP  \n",
      "3                      8775        mogi das cruzes             SP  \n",
      "4                     13056               campinas             SP  \n"
     ]
    }
   ],
   "source": [
    "customers = pd.read_csv(os.path.join(path, '02 data', 'original data', 'olist_customers_dataset.csv'), delimiter=\";\")\n",
    "print(customers.head())"
   ]
  },
  {
   "cell_type": "code",
   "execution_count": 23,
   "id": "d7f3a03d-d018-4b4e-8d06-3447093827f8",
   "metadata": {},
   "outputs": [
    {
     "name": "stdout",
     "output_type": "stream",
     "text": [
      "       customer_zip_code_prefix\n",
      "count              99441.000000\n",
      "mean               35137.474583\n",
      "std                29797.938996\n",
      "min                 1003.000000\n",
      "25%                11347.000000\n",
      "50%                24416.000000\n",
      "75%                58900.000000\n",
      "max                99990.000000\n"
     ]
    }
   ],
   "source": [
    "print(customers.describe())\n"
   ]
  },
  {
   "cell_type": "code",
   "execution_count": 24,
   "id": "7cc9780e-4f2d-4f41-847b-5dd9860dc282",
   "metadata": {},
   "outputs": [
    {
     "data": {
      "text/plain": [
       "customer_id                 0\n",
       "customer_unique_id          0\n",
       "customer_zip_code_prefix    0\n",
       "customer_city               0\n",
       "customer_state              0\n",
       "dtype: int64"
      ]
     },
     "execution_count": 24,
     "metadata": {},
     "output_type": "execute_result"
    }
   ],
   "source": [
    "customers.isnull().sum()"
   ]
  },
  {
   "cell_type": "code",
   "execution_count": 25,
   "id": "7156e68d-6054-489b-813d-66924ca77007",
   "metadata": {},
   "outputs": [
    {
     "name": "stdout",
     "output_type": "stream",
     "text": [
      "                           order_id  order_item_id  \\\n",
      "0  00010242fe8c5a6d1ba2dd792cb16214              1   \n",
      "1  00018f77f2f0320c557190d7a144bdd3              1   \n",
      "2  000229ec398224ef6ca0657da4fc703e              1   \n",
      "3  00024acbcdf0a6daa1e931b038114c75              1   \n",
      "4  00042b26cf59d7ce69dfabb4e55b4fd9              1   \n",
      "\n",
      "                         product_id                         seller_id  \\\n",
      "0  4244733e06e7ecb4970a6e2683c13e61  48436dade18ac8b2bce089ec2a041202   \n",
      "1  e5f2d52b802189ee658865ca93d83a8f  dd7ddc04e1b6c2c614352b383efe2d36   \n",
      "2  c777355d18b72b67abbeef9df44fd0fd  5b51032eddd242adc84c38acab88f23d   \n",
      "3  7634da152a4610f1595efa32f14722fc  9d7a1d34a5052409006425275ba1c2b4   \n",
      "4  ac6c3623068f30de03045865e4e10089  df560393f3a51e74553ab94004ba5c87   \n",
      "\n",
      "  shipping_limit_date   price  freight_value  \n",
      "0    19/09/2017 09:45   58.90          13.29  \n",
      "1    03/05/2017 11:05  239.90          19.93  \n",
      "2    18/01/2018 14:48  199.00          17.87  \n",
      "3    15/08/2018 10:10   12.99          12.79  \n",
      "4    13/02/2017 13:57  199.90          18.14  \n"
     ]
    }
   ],
   "source": [
    "orderitems = pd.read_csv(os.path.join(path, '02 data', 'original data', 'olist_order_items_dataset.csv'), delimiter=\";\")\n",
    "print(orderitems.head())"
   ]
  },
  {
   "cell_type": "code",
   "execution_count": 26,
   "id": "5d104cb9-637a-4a8c-9760-3e479a271b6f",
   "metadata": {},
   "outputs": [
    {
     "name": "stdout",
     "output_type": "stream",
     "text": [
      "       order_item_id          price  freight_value\n",
      "count  112650.000000  112650.000000  112650.000000\n",
      "mean        1.197834     120.653739      19.990320\n",
      "std         0.705124     183.633928      15.806405\n",
      "min         1.000000       0.850000       0.000000\n",
      "25%         1.000000      39.900000      13.080000\n",
      "50%         1.000000      74.990000      16.260000\n",
      "75%         1.000000     134.900000      21.150000\n",
      "max        21.000000    6735.000000     409.680000\n"
     ]
    }
   ],
   "source": [
    "print(orderitems.describe())\n"
   ]
  },
  {
   "cell_type": "code",
   "execution_count": 27,
   "id": "5f7018f9-1477-4ca9-b19a-44537185b87b",
   "metadata": {},
   "outputs": [
    {
     "data": {
      "text/plain": [
       "order_id               0\n",
       "order_item_id          0\n",
       "product_id             0\n",
       "seller_id              0\n",
       "shipping_limit_date    0\n",
       "price                  0\n",
       "freight_value          0\n",
       "dtype: int64"
      ]
     },
     "execution_count": 27,
     "metadata": {},
     "output_type": "execute_result"
    }
   ],
   "source": [
    "orderitems.isnull().sum()"
   ]
  },
  {
   "cell_type": "code",
   "execution_count": 28,
   "id": "b4b079df-485b-4eda-b527-96e2e298480b",
   "metadata": {},
   "outputs": [
    {
     "name": "stdout",
     "output_type": "stream",
     "text": [
      "                           order_id                       customer_id  \\\n",
      "0  e481f51cbdc54678b7cc49136f2d6af7  9ef432eb6251297304e76186b10a928d   \n",
      "1  53cdb2fc8bc7dce0b6741e2150273451  b0830fb4747a6c6d20dea0b8c802d7ef   \n",
      "2  47770eb9100c2d0c44946d9cf07ec65d  41ce2a54c0b03bf3443c3d931a367089   \n",
      "3  949d5b44dbf5de918fe9c16f97b45f8a  f88197465ea7920adcdbec7375364d82   \n",
      "4  ad21c59c0840e6cb83a9ceb5573f8159  8ab97904e6daea8866dbdbc4fb7aad2c   \n",
      "\n",
      "  order_status order_purchase_timestamp order_approved_at  \\\n",
      "0    delivered         02/10/2017 10:56  02/10/2017 11:07   \n",
      "1    delivered         24/07/2018 20:41  26/07/2018 03:24   \n",
      "2    delivered         08/08/2018 08:38  08/08/2018 08:55   \n",
      "3    delivered         18/11/2017 19:28  18/11/2017 19:45   \n",
      "4    delivered         13/02/2018 21:18  13/02/2018 22:20   \n",
      "\n",
      "  order_delivered_carrier_date order_delivered_customer_date  \\\n",
      "0             04/10/2017 19:55              10/10/2017 21:25   \n",
      "1             26/07/2018 14:31              07/08/2018 15:27   \n",
      "2             08/08/2018 13:50              17/08/2018 18:06   \n",
      "3             22/11/2017 13:39              02/12/2017 00:28   \n",
      "4             14/02/2018 19:46              16/02/2018 18:17   \n",
      "\n",
      "  order_estimated_delivery_date  \n",
      "0              18/10/2017 00:00  \n",
      "1              13/08/2018 00:00  \n",
      "2              04/09/2018 00:00  \n",
      "3              15/12/2017 00:00  \n",
      "4              26/02/2018 00:00  \n"
     ]
    }
   ],
   "source": [
    "orders = pd.read_csv(os.path.join(path, '02 data', 'original data', 'olist_orders_dataset.csv'), delimiter=\";\")\n",
    "print(orders.head())"
   ]
  },
  {
   "cell_type": "code",
   "execution_count": 29,
   "id": "86da4494-d344-4876-991a-7aa07c80d7f5",
   "metadata": {},
   "outputs": [
    {
     "name": "stdout",
     "output_type": "stream",
     "text": [
      "                                order_id                       customer_id  \\\n",
      "count                              99441                             99441   \n",
      "unique                             99441                             99441   \n",
      "top     66dea50a8b16d9b4dee7af250b4be1a5  edb027a75a1449115f6b43211ae02a24   \n",
      "freq                                   1                                 1   \n",
      "\n",
      "       order_status order_purchase_timestamp order_approved_at  \\\n",
      "count         99441                    99441             99281   \n",
      "unique            8                    88789             50462   \n",
      "top       delivered         02/08/2018 12:06  10/01/2018 10:32   \n",
      "freq          96478                       28               109   \n",
      "\n",
      "       order_delivered_carrier_date order_delivered_customer_date  \\\n",
      "count                         97658                         96476   \n",
      "unique                        61544                         75649   \n",
      "top                09/05/2018 15:48              24/07/2018 18:28   \n",
      "freq                             47                             7   \n",
      "\n",
      "       order_estimated_delivery_date  \n",
      "count                          99441  \n",
      "unique                           459  \n",
      "top                 20/12/2017 00:00  \n",
      "freq                             522  \n"
     ]
    }
   ],
   "source": [
    "print(orders.describe())\n"
   ]
  },
  {
   "cell_type": "code",
   "execution_count": 30,
   "id": "35d39f35-95b1-4fd9-a9a1-bc0ce626724a",
   "metadata": {},
   "outputs": [
    {
     "data": {
      "text/plain": [
       "order_id                            0\n",
       "customer_id                         0\n",
       "order_status                        0\n",
       "order_purchase_timestamp            0\n",
       "order_approved_at                 160\n",
       "order_delivered_carrier_date     1783\n",
       "order_delivered_customer_date    2965\n",
       "order_estimated_delivery_date       0\n",
       "dtype: int64"
      ]
     },
     "execution_count": 30,
     "metadata": {},
     "output_type": "execute_result"
    }
   ],
   "source": [
    "orders.isnull().sum()"
   ]
  },
  {
   "cell_type": "code",
   "execution_count": 31,
   "id": "5c357cf0-a243-4bae-a170-1b9c6c5f2013",
   "metadata": {},
   "outputs": [],
   "source": [
    "# view these missed values\n",
    "orders_cleaned = orders[orders['order_approved_at'].isnull() == True]\n"
   ]
  },
  {
   "cell_type": "code",
   "execution_count": 32,
   "id": "1a659e75-566a-436f-9743-f239c9e8bf62",
   "metadata": {},
   "outputs": [
    {
     "data": {
      "text/plain": [
       "(99441, 8)"
      ]
     },
     "execution_count": 32,
     "metadata": {},
     "output_type": "execute_result"
    }
   ],
   "source": [
    "#check the current number of rows in your\n",
    "\n",
    "orders.shape"
   ]
  },
  {
   "cell_type": "code",
   "execution_count": 33,
   "id": "0506d453-3346-4e89-9d3e-35b535b340f3",
   "metadata": {},
   "outputs": [],
   "source": [
    "orders.dropna(inplace=True)  \n"
   ]
  },
  {
   "cell_type": "code",
   "execution_count": 34,
   "id": "4626ee97-ca14-43b3-9db4-61697566cc80",
   "metadata": {},
   "outputs": [
    {
     "data": {
      "text/plain": [
       "(96461, 8)"
      ]
     },
     "execution_count": 34,
     "metadata": {},
     "output_type": "execute_result"
    }
   ],
   "source": [
    "orders.shape"
   ]
  },
  {
   "cell_type": "code",
   "execution_count": 35,
   "id": "bef38ac8-5453-4830-8565-b9645e3287ef",
   "metadata": {},
   "outputs": [
    {
     "name": "stdout",
     "output_type": "stream",
     "text": [
      "                          seller_id  seller_zip_code_prefix  \\\n",
      "0  3442f8959a84dea7ee197c632cb2df15                   13023   \n",
      "1  d1b65fc7debc3361ea86b5f14c68d2e2                   13844   \n",
      "2  ce3ad9de960102d0677a81f5d0bb7b2d                   20031   \n",
      "3  c0f3eea2e14555b6faeea3dd58c1b1c3                    4195   \n",
      "4  51a04a8a6bdcb23deccc82b0b80742cf                   12914   \n",
      "\n",
      "         seller_city seller_state  \n",
      "0           campinas           SP  \n",
      "1         mogi guacu           SP  \n",
      "2     rio de janeiro           RJ  \n",
      "3          sao paulo           SP  \n",
      "4  braganca paulista           SP  \n"
     ]
    }
   ],
   "source": [
    "sellers = pd.read_csv(os.path.join(path, '02 data', 'original data', 'olist_sellers_dataset.csv'), delimiter=\";\")\n",
    "print(sellers.head())"
   ]
  },
  {
   "cell_type": "code",
   "execution_count": 36,
   "id": "6e7a90a2-32bb-4276-89bb-0d3c6332aa61",
   "metadata": {},
   "outputs": [
    {
     "data": {
      "text/plain": [
       "seller_id                 0\n",
       "seller_zip_code_prefix    0\n",
       "seller_city               0\n",
       "seller_state              0\n",
       "dtype: int64"
      ]
     },
     "execution_count": 36,
     "metadata": {},
     "output_type": "execute_result"
    }
   ],
   "source": [
    "sellers.isnull().sum()"
   ]
  },
  {
   "cell_type": "code",
   "execution_count": 37,
   "id": "c4e71a9b-52e0-4269-b8c4-0488370768ea",
   "metadata": {},
   "outputs": [],
   "source": [
    "productscategory = pd.read_csv(os.path.join(path, '02 data', 'original data', 'product_category_name_translation.csv'))"
   ]
  },
  {
   "cell_type": "code",
   "execution_count": 38,
   "id": "3b9ab8aa-32c7-4767-a82f-78ecfc2a6f44",
   "metadata": {},
   "outputs": [
    {
     "data": {
      "text/plain": [
       "product_category_name;product_category_name_english    0\n",
       "dtype: int64"
      ]
     },
     "execution_count": 38,
     "metadata": {},
     "output_type": "execute_result"
    }
   ],
   "source": [
    "productscategory.isnull().sum()"
   ]
  },
  {
   "cell_type": "code",
   "execution_count": 39,
   "id": "7d2dcd9f-111e-4a0b-8460-92cf49eee969",
   "metadata": {},
   "outputs": [],
   "source": [
    "productscategory = pd.read_csv(os.path.join(path, '02 data', 'original data', 'product_category_name_translation.csv'), delimiter=\";\")\n"
   ]
  },
  {
   "cell_type": "code",
   "execution_count": 40,
   "id": "391afb99-55f2-4172-ba0a-65762b146ca5",
   "metadata": {},
   "outputs": [
    {
     "name": "stdout",
     "output_type": "stream",
     "text": [
      "    product_category_name product_category_name_english\n",
      "0            beleza_saude                 health_beauty\n",
      "1  informatica_acessorios         computers_accessories\n",
      "2              automotivo                          auto\n",
      "3         cama_mesa_banho                bed_bath_table\n",
      "4        moveis_decoracao               furniture_decor\n"
     ]
    }
   ],
   "source": [
    "print(productscategory.head())"
   ]
  },
  {
   "cell_type": "code",
   "execution_count": 41,
   "id": "5d2ceeac-09bc-453c-832d-dc06dce5eba2",
   "metadata": {},
   "outputs": [
    {
     "data": {
      "text/plain": [
       "product_category_name            0\n",
       "product_category_name_english    0\n",
       "dtype: int64"
      ]
     },
     "execution_count": 41,
     "metadata": {},
     "output_type": "execute_result"
    }
   ],
   "source": [
    "productscategory.isnull().sum()"
   ]
  },
  {
   "cell_type": "code",
   "execution_count": 42,
   "id": "0ca18165-d056-41c6-b9d7-cb937a1d4209",
   "metadata": {},
   "outputs": [],
   "source": [
    "geological = pd.read_csv(os.path.join(path, '02 data', 'original data', 'olist_geolocation_dataset.csv'),delimiter=\";\")\n"
   ]
  },
  {
   "cell_type": "code",
   "execution_count": 43,
   "id": "966a6cf9-d5e1-4189-82eb-c879f35d8787",
   "metadata": {},
   "outputs": [
    {
     "name": "stdout",
     "output_type": "stream",
     "text": [
      "   geolocation_zip_code_prefix geolocation_city geolocation_state  \\\n",
      "0                         1037        sao paulo                SP   \n",
      "1                         1046        sao paulo                SP   \n",
      "2                         1046        sao paulo                SP   \n",
      "3                         1041        sao paulo                SP   \n",
      "4                         1035        sao paulo                SP   \n",
      "\n",
      "  geolocation_lat geolocation_lng  \n",
      "0       -2,35E+15       -4,66E+15  \n",
      "1       -2,35E+16       -4,66E+15  \n",
      "2       -2,35E+15       -4,66E+15  \n",
      "3       -2,35E+14       -4,66E+15  \n",
      "4       -2,35E+16       -4,66E+15  \n"
     ]
    }
   ],
   "source": [
    "print(geological.head())"
   ]
  },
  {
   "cell_type": "code",
   "execution_count": 44,
   "id": "ca492e00-5369-4a21-ac2e-6d25ef8aaf9e",
   "metadata": {},
   "outputs": [
    {
     "data": {
      "text/plain": [
       "geolocation_zip_code_prefix    0\n",
       "geolocation_city               0\n",
       "geolocation_state              1\n",
       "geolocation_lat                0\n",
       "geolocation_lng                0\n",
       "dtype: int64"
      ]
     },
     "execution_count": 44,
     "metadata": {},
     "output_type": "execute_result"
    }
   ],
   "source": [
    "geological.isnull().sum()"
   ]
  },
  {
   "cell_type": "code",
   "execution_count": 45,
   "id": "d6255b56-def4-4e80-95b5-a2e2016566f5",
   "metadata": {},
   "outputs": [],
   "source": [
    "geological.dropna(inplace=True)  \n"
   ]
  },
  {
   "cell_type": "code",
   "execution_count": 46,
   "id": "8f423ec3-617b-4f8c-a7f6-d44d8f3793a4",
   "metadata": {},
   "outputs": [
    {
     "data": {
      "text/plain": [
       "geolocation_zip_code_prefix    0\n",
       "geolocation_city               0\n",
       "geolocation_state              0\n",
       "geolocation_lat                0\n",
       "geolocation_lng                0\n",
       "dtype: int64"
      ]
     },
     "execution_count": 46,
     "metadata": {},
     "output_type": "execute_result"
    }
   ],
   "source": [
    "geological.isnull().sum()"
   ]
  },
  {
   "cell_type": "code",
   "execution_count": 47,
   "id": "d74b70ed-0d70-4926-9197-999253c3138e",
   "metadata": {},
   "outputs": [
    {
     "name": "stdout",
     "output_type": "stream",
     "text": [
      "Requirement already satisfied: unidecode in c:\\users\\amani\\miniconda3\\lib\\site-packages (1.3.8)\n"
     ]
    }
   ],
   "source": [
    "!pip install unidecode\n"
   ]
  },
  {
   "cell_type": "code",
   "execution_count": 48,
   "id": "880d8ddf-a6de-445f-ad11-d2937361c731",
   "metadata": {},
   "outputs": [
    {
     "name": "stdout",
     "output_type": "stream",
     "text": [
      "   geolocation_zip_code_prefix geolocation_city geolocation_state  \\\n",
      "0                         1037        sao paulo                SP   \n",
      "1                         1046        sao paulo                SP   \n",
      "2                         1046        sao paulo                SP   \n",
      "3                         1041        sao paulo                SP   \n",
      "4                         1035        sao paulo                SP   \n",
      "\n",
      "  geolocation_lat geolocation_lng  \n",
      "0       -2,35E+15       -4,66E+15  \n",
      "1       -2,35E+16       -4,66E+15  \n",
      "2       -2,35E+15       -4,66E+15  \n",
      "3       -2,35E+14       -4,66E+15  \n",
      "4       -2,35E+16       -4,66E+15  \n"
     ]
    }
   ],
   "source": [
    "from unidecode import unidecode\n",
    "\n",
    "# تحويل جميع القيم في عمود 'city' إلى حروف صحيحة\n",
    "geological['geolocation_city'] = geological['geolocation_city'].apply(lambda x: unidecode(x) if isinstance(x, str) else x)\n",
    "\n",
    "# عرض البيانات بعد التصحيح\n",
    "print(geological.head())"
   ]
  },
  {
   "cell_type": "code",
   "execution_count": 49,
   "id": "8cfed76a-36da-48d3-980d-0b68622c5bf1",
   "metadata": {},
   "outputs": [
    {
     "name": "stdout",
     "output_type": "stream",
     "text": [
      "['sao paulo' 'sao bernardo do campo' 'jundiaA' ... 'cirAaco' 'estaASSAPSo'\n",
      " 'vila lAC/ngaro']\n"
     ]
    }
   ],
   "source": [
    "print(geological['geolocation_city'].unique()[:10000])\n",
    "\n"
   ]
  },
  {
   "cell_type": "markdown",
   "id": "32b27c24-c153-400d-8801-6bbc9012b1a7",
   "metadata": {},
   "source": [
    "### fix columns names\n"
   ]
  },
  {
   "cell_type": "code",
   "execution_count": 50,
   "id": "adf3ad9b-7495-4120-912b-b2c76ab3df4a",
   "metadata": {},
   "outputs": [
    {
     "name": "stdout",
     "output_type": "stream",
     "text": [
      "                                order_id                       customer_id  \\\n",
      "count                              96461                             96461   \n",
      "unique                             96461                             96461   \n",
      "top     66dea50a8b16d9b4dee7af250b4be1a5  edb027a75a1449115f6b43211ae02a24   \n",
      "freq                                   1                                 1   \n",
      "\n",
      "       order_status order_purchase_timestamp order_approved_at  \\\n",
      "count         96461                    96461             96461   \n",
      "unique            2                    86341             49451   \n",
      "top       delivered         02/08/2018 12:06  10/01/2018 10:32   \n",
      "freq          96455                       28               108   \n",
      "\n",
      "       order_delivered_carrier_date order_delivered_customer_date  \\\n",
      "count                         96461                         96461   \n",
      "unique                        61005                         75637   \n",
      "top                09/05/2018 15:48              03/08/2018 21:04   \n",
      "freq                             47                             7   \n",
      "\n",
      "       order_estimated_delivery_date  \n",
      "count                          96461  \n",
      "unique                           445  \n",
      "top                 20/12/2017 00:00  \n",
      "freq                             507  \n"
     ]
    }
   ],
   "source": [
    "print(orders.describe()) \n"
   ]
  },
  {
   "cell_type": "code",
   "execution_count": 51,
   "id": "5aa93c9c-ad4e-49cb-8402-a697b8268ee0",
   "metadata": {},
   "outputs": [],
   "source": [
    "orders.columns = orders.columns.str.strip().str.lower().str.replace(\" \", \"_\")\n"
   ]
  },
  {
   "cell_type": "code",
   "execution_count": 52,
   "id": "e81d73e5-f6c9-4327-9f89-9f02055c3a50",
   "metadata": {},
   "outputs": [],
   "source": [
    "products.columns = products.columns.str.strip().str.lower().str.replace(\" \", \"_\")\n"
   ]
  },
  {
   "cell_type": "code",
   "execution_count": 53,
   "id": "074320a9-2cdd-4b7e-a730-dc01dccc0c20",
   "metadata": {},
   "outputs": [],
   "source": [
    "orderpayment.columns = orderpayment.columns.str.strip().str.lower().str.replace(\" \", \"_\")\n"
   ]
  },
  {
   "cell_type": "code",
   "execution_count": 54,
   "id": "32a81615-86f6-42f6-ba47-6f21773de651",
   "metadata": {},
   "outputs": [],
   "source": [
    "orderitems.columns = orderitems.columns.str.strip().str.lower().str.replace(\" \", \"_\")\n"
   ]
  },
  {
   "cell_type": "code",
   "execution_count": 55,
   "id": "d80ea3f0-491a-4e87-83e9-f80dff99bf9c",
   "metadata": {},
   "outputs": [],
   "source": [
    "sellers.columns = sellers.columns.str.strip().str.lower().str.replace(\" \", \"_\")\n"
   ]
  },
  {
   "cell_type": "code",
   "execution_count": 56,
   "id": "358de168-6aff-4134-9e4b-1f2e33dd58f5",
   "metadata": {},
   "outputs": [],
   "source": [
    "productscategory.columns = productscategory.columns.str.strip().str.lower().str.replace(\" \", \"_\")\n"
   ]
  },
  {
   "cell_type": "code",
   "execution_count": 57,
   "id": "775a6509-f586-458d-9228-b1e4a5778338",
   "metadata": {},
   "outputs": [],
   "source": [
    "geological.columns = geological.columns.str.strip().str.lower().str.replace(\" \", \"_\")\n"
   ]
  },
  {
   "cell_type": "markdown",
   "id": "d2d07889-2377-4464-9193-04368ee333cd",
   "metadata": {},
   "source": [
    "### remove Duplicates"
   ]
  },
  {
   "cell_type": "code",
   "execution_count": 58,
   "id": "11685e88-4415-4524-b139-cfd3ad1a9ac4",
   "metadata": {},
   "outputs": [],
   "source": [
    "orders.drop_duplicates(inplace=True) "
   ]
  },
  {
   "cell_type": "code",
   "execution_count": 59,
   "id": "b2ee590e-6535-4844-a21a-19d8c15f4f3c",
   "metadata": {},
   "outputs": [],
   "source": [
    "products.drop_duplicates(inplace=True)  "
   ]
  },
  {
   "cell_type": "code",
   "execution_count": 60,
   "id": "8f26a11a-e657-4ea2-b091-4617bf1a095b",
   "metadata": {},
   "outputs": [],
   "source": [
    "orderpayment.drop_duplicates(inplace=True)  "
   ]
  },
  {
   "cell_type": "code",
   "execution_count": 61,
   "id": "71030535-2531-424e-a31f-cfb537ed715b",
   "metadata": {},
   "outputs": [],
   "source": [
    "orderitems.drop_duplicates(inplace=True) \n"
   ]
  },
  {
   "cell_type": "code",
   "execution_count": 62,
   "id": "aa0d69e5-e159-4dfb-89d5-eec5b845c776",
   "metadata": {},
   "outputs": [],
   "source": [
    "sellers.drop_duplicates(inplace=True)  \n"
   ]
  },
  {
   "cell_type": "code",
   "execution_count": 63,
   "id": "d9b541fd-7d56-4f3e-bf5b-db752e774903",
   "metadata": {},
   "outputs": [],
   "source": [
    "productscategory.drop_duplicates(inplace=True) \n"
   ]
  },
  {
   "cell_type": "code",
   "execution_count": 64,
   "id": "04e73650-0c24-4324-b499-4306e6ac34f7",
   "metadata": {},
   "outputs": [],
   "source": [
    "geological.drop_duplicates(inplace=True)  \n"
   ]
  },
  {
   "cell_type": "code",
   "execution_count": 65,
   "id": "85a2dc18-ba88-4dc2-9c9e-4de8c52b515b",
   "metadata": {},
   "outputs": [],
   "source": [
    "customers.drop_duplicates(inplace=True)  \n"
   ]
  },
  {
   "cell_type": "markdown",
   "id": "30e55711-0c71-46f4-9baa-6a137b9760c5",
   "metadata": {},
   "source": [
    "### fix columns data types"
   ]
  },
  {
   "cell_type": "code",
   "execution_count": 66,
   "id": "867779db-9cac-4f0d-ade3-f22befee687d",
   "metadata": {},
   "outputs": [
    {
     "name": "stdout",
     "output_type": "stream",
     "text": [
      "order_id                         object\n",
      "customer_id                      object\n",
      "order_status                     object\n",
      "order_purchase_timestamp         object\n",
      "order_approved_at                object\n",
      "order_delivered_carrier_date     object\n",
      "order_delivered_customer_date    object\n",
      "order_estimated_delivery_date    object\n",
      "dtype: object\n"
     ]
    }
   ],
   "source": [
    "print(orders.dtypes)\n"
   ]
  },
  {
   "cell_type": "code",
   "execution_count": 67,
   "id": "605c7db9-7788-40e8-b0d4-85efacb32d21",
   "metadata": {},
   "outputs": [
    {
     "name": "stderr",
     "output_type": "stream",
     "text": [
      "C:\\Users\\Amani\\AppData\\Local\\Temp\\ipykernel_8052\\2466853193.py:6: UserWarning: Parsing dates in %d/%m/%Y %H:%M format when dayfirst=False (the default) was specified. Pass `dayfirst=True` or specify a format to silence this warning.\n",
      "  orders['order_estimated_delivery_date'] = pd.to_datetime(orders['order_estimated_delivery_date'], errors='coerce')\n"
     ]
    }
   ],
   "source": [
    "# change columns that contain dates\n",
    "orders['order_purchase_timestamp'] = pd.to_datetime(orders['order_purchase_timestamp'], errors='coerce')\n",
    "orders['order_approved_at'] = pd.to_datetime(orders['order_approved_at'], errors='coerce')\n",
    "orders['order_delivered_carrier_date'] = pd.to_datetime(orders['order_delivered_carrier_date'], errors='coerce')\n",
    "orders['order_delivered_customer_date'] = pd.to_datetime(orders['order_delivered_customer_date'], errors='coerce')\n",
    "orders['order_estimated_delivery_date'] = pd.to_datetime(orders['order_estimated_delivery_date'], errors='coerce')\n",
    "orders['order_estimated_delivery_date'] = pd.to_datetime(orders['order_estimated_delivery_date'], errors='coerce', dayfirst=True)"
   ]
  },
  {
   "cell_type": "code",
   "execution_count": 68,
   "id": "c03f41b2-4017-4880-a81c-46a204fbaaaa",
   "metadata": {},
   "outputs": [
    {
     "name": "stdout",
     "output_type": "stream",
     "text": [
      "order_id                                 object\n",
      "customer_id                              object\n",
      "order_status                             object\n",
      "order_purchase_timestamp         datetime64[ns]\n",
      "order_approved_at                datetime64[ns]\n",
      "order_delivered_carrier_date     datetime64[ns]\n",
      "order_delivered_customer_date    datetime64[ns]\n",
      "order_estimated_delivery_date    datetime64[ns]\n",
      "dtype: object\n"
     ]
    }
   ],
   "source": [
    "# make sure its changed\n",
    "print(orders.dtypes)\n"
   ]
  },
  {
   "cell_type": "code",
   "execution_count": 69,
   "id": "2a3e8bc3-11e2-4125-8b80-59ea4b838b77",
   "metadata": {},
   "outputs": [
    {
     "name": "stdout",
     "output_type": "stream",
     "text": [
      "customer_id                 object\n",
      "customer_unique_id          object\n",
      "customer_zip_code_prefix     int64\n",
      "customer_city               object\n",
      "customer_state              object\n",
      "dtype: object\n"
     ]
    }
   ],
   "source": [
    "print(customers.dtypes)\n"
   ]
  },
  {
   "cell_type": "code",
   "execution_count": 70,
   "id": "638bf615-fae4-46f3-bcd5-a1dc91adeaf2",
   "metadata": {},
   "outputs": [
    {
     "name": "stdout",
     "output_type": "stream",
     "text": [
      "product_id               object\n",
      "product_category_name    object\n",
      "dtype: object\n"
     ]
    }
   ],
   "source": [
    "print(products.dtypes)\n"
   ]
  },
  {
   "cell_type": "code",
   "execution_count": 71,
   "id": "551c524b-5039-4b0d-a3ce-32903a0cdee7",
   "metadata": {},
   "outputs": [
    {
     "name": "stdout",
     "output_type": "stream",
     "text": [
      "order_id                 object\n",
      "payment_sequential        int64\n",
      "payment_type             object\n",
      "payment_installments      int64\n",
      "payment_value           float64\n",
      "dtype: object\n"
     ]
    }
   ],
   "source": [
    "print(orderpayment.dtypes)\n"
   ]
  },
  {
   "cell_type": "code",
   "execution_count": 72,
   "id": "88a5c62d-5bd1-4e07-bcf8-6ff6809f4c43",
   "metadata": {},
   "outputs": [
    {
     "name": "stdout",
     "output_type": "stream",
     "text": [
      "order_id                object\n",
      "order_item_id            int64\n",
      "product_id              object\n",
      "seller_id               object\n",
      "shipping_limit_date     object\n",
      "price                  float64\n",
      "freight_value          float64\n",
      "dtype: object\n"
     ]
    }
   ],
   "source": [
    "print(orderitems.dtypes)\n"
   ]
  },
  {
   "cell_type": "code",
   "execution_count": 73,
   "id": "5fe4e09a-b2f0-474f-8a82-68589f760086",
   "metadata": {},
   "outputs": [
    {
     "name": "stdout",
     "output_type": "stream",
     "text": [
      "seller_id                 object\n",
      "seller_zip_code_prefix     int64\n",
      "seller_city               object\n",
      "seller_state              object\n",
      "dtype: object\n"
     ]
    }
   ],
   "source": [
    "print(sellers.dtypes)\n"
   ]
  },
  {
   "cell_type": "code",
   "execution_count": 74,
   "id": "26be8028-ed90-4fc7-957c-cb94bae41b4d",
   "metadata": {},
   "outputs": [
    {
     "name": "stdout",
     "output_type": "stream",
     "text": [
      "product_category_name            object\n",
      "product_category_name_english    object\n",
      "dtype: object\n"
     ]
    }
   ],
   "source": [
    "print(productscategory.dtypes)\n"
   ]
  },
  {
   "cell_type": "code",
   "execution_count": 75,
   "id": "af5e9633-d2d9-4765-bdd4-d84370408100",
   "metadata": {},
   "outputs": [
    {
     "name": "stdout",
     "output_type": "stream",
     "text": [
      "geolocation_zip_code_prefix     int64\n",
      "geolocation_city               object\n",
      "geolocation_state              object\n",
      "geolocation_lat                object\n",
      "geolocation_lng                object\n",
      "dtype: object\n"
     ]
    }
   ],
   "source": [
    "print(geological.dtypes)\n"
   ]
  },
  {
   "cell_type": "markdown",
   "id": "91a5c495-e785-4180-8869-c7ee092d9485",
   "metadata": {},
   "source": [
    "#### Export your final, cleaned  “Prepared Data” folder and give them appropriate, succinct names.\n"
   ]
  },
  {
   "cell_type": "code",
   "execution_count": 76,
   "id": "7349b90a-8003-4101-81d9-679e20807e9f",
   "metadata": {},
   "outputs": [],
   "source": [
    "# Export the cleaned df_prods dataframe\n",
    "orders.to_csv(os.path.join(path, '02 data', 'cleaned data', 'orders_cleaned.csv'), index=False)"
   ]
  },
  {
   "cell_type": "code",
   "execution_count": 77,
   "id": "64c7fc6b-2288-455e-9b52-2f824802267a",
   "metadata": {},
   "outputs": [],
   "source": [
    "products.to_csv(os.path.join(path, '02 data', 'cleaned data', 'products_cleaned.csv'), index=False)"
   ]
  },
  {
   "cell_type": "code",
   "execution_count": 78,
   "id": "9d6bed8a-bb6b-49f6-9943-28c59ee200b6",
   "metadata": {},
   "outputs": [],
   "source": [
    "customers.to_csv(os.path.join(path, '02 data', 'cleaned data', 'customers_cleaned.csv'), index=False)"
   ]
  },
  {
   "cell_type": "code",
   "execution_count": 79,
   "id": "de3e1feb-42d8-4081-8047-22c7dadb48c6",
   "metadata": {},
   "outputs": [],
   "source": [
    "orderpayment.to_csv(os.path.join(path, '02 data', 'cleaned data', 'orderpayment_cleaned.csv'), index=False)"
   ]
  },
  {
   "cell_type": "code",
   "execution_count": 80,
   "id": "6f9556c1-2e38-4128-a67f-f0a54ec4a1cc",
   "metadata": {},
   "outputs": [],
   "source": [
    "orderitems.to_csv(os.path.join(path, '02 data', 'cleaned data', 'orderitems_cleaned.csv'), index=False)"
   ]
  },
  {
   "cell_type": "code",
   "execution_count": 81,
   "id": "9ab81a80-89c4-462b-a3fd-0d3e2f1b5475",
   "metadata": {},
   "outputs": [],
   "source": [
    "productscategory.to_csv(os.path.join(path, '02 data', 'cleaned data', 'productscategory_cleaned.csv'), index=False)"
   ]
  },
  {
   "cell_type": "code",
   "execution_count": 82,
   "id": "b7f4460a-2e9a-4ee4-8942-0b77bec2ed9c",
   "metadata": {},
   "outputs": [],
   "source": [
    "geological.to_csv(os.path.join(path, '02 data', 'cleaned data', 'geological_cleaned.csv'), index=False)"
   ]
  },
  {
   "cell_type": "code",
   "execution_count": 83,
   "id": "316214c0-c5e8-44c3-adb8-a2464eff641d",
   "metadata": {},
   "outputs": [],
   "source": [
    "sellers.to_csv(os.path.join(path, '02 data', 'cleaned data', 'sellers_cleaned.csv'), index=False)"
   ]
  }
 ],
 "metadata": {
  "kernelspec": {
   "display_name": "Python 3 (ipykernel)",
   "language": "python",
   "name": "python3"
  },
  "language_info": {
   "codemirror_mode": {
    "name": "ipython",
    "version": 3
   },
   "file_extension": ".py",
   "mimetype": "text/x-python",
   "name": "python",
   "nbconvert_exporter": "python",
   "pygments_lexer": "ipython3",
   "version": "3.12.9"
  }
 },
 "nbformat": 4,
 "nbformat_minor": 5
}
